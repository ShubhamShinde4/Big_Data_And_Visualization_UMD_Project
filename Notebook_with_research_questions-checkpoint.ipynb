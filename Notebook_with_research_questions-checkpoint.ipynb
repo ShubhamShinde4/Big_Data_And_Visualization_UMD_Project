{
 "cells": [
  {
   "cell_type": "code",
   "execution_count": 1,
   "id": "0534fbf9-7bc5-4c2f-b2e6-e42fa9311807",
   "metadata": {
    "tags": []
   },
   "outputs": [],
   "source": [
    "import pandas as pd\n",
    "import seaborn.objects as so\n",
    "import seaborn as sns\n",
    "import matplotlib.pyplot as plt\n",
    "from sklearn.cluster import KMeans\n",
    "from sklearn.preprocessing import StandardScaler, OneHotEncoder\n",
    "from sklearn.metrics import silhouette_score"
   ]
  },
  {
   "cell_type": "code",
   "execution_count": 2,
   "id": "ed16859d-b33f-4c03-af67-ae694f871a1b",
   "metadata": {
    "tags": []
   },
   "outputs": [],
   "source": [
    "Sales_data=pd.read_csv(\"./Data/Sales Report.csv\", sep=';',header=1)"
   ]
  },
  {
   "cell_type": "code",
   "execution_count": 3,
   "id": "45ede500-3ca9-4f87-9126-a5508a260a8a",
   "metadata": {
    "tags": []
   },
   "outputs": [],
   "source": [
    "Sales_data.columns = ['Company Code', 'Order Number', 'Employee', 'Product', 'Product Category', 'Client', 'Client City', 'Sales Date Time', 'Product Cost', 'Discount Amount', 'Amount', 'Total', 'Form of Payment']"
   ]
  },
  {
   "cell_type": "code",
   "execution_count": 4,
   "id": "88358a7a-31c5-4229-8784-b6058b5689e7",
   "metadata": {
    "tags": []
   },
   "outputs": [
    {
     "name": "stdout",
     "output_type": "stream",
     "text": [
      "Null values in each column:\n",
      " Company Code        0\n",
      "Order Number        0\n",
      "Employee            0\n",
      "Product             0\n",
      "Product Category    0\n",
      "Client              0\n",
      "Client City         0\n",
      "Sales Date Time     0\n",
      "Product Cost        0\n",
      "Discount Amount     0\n",
      "Amount              0\n",
      "Total               0\n",
      "Form of Payment     0\n",
      "dtype: int64\n",
      "\n",
      " Total null values in the dataset: 0\n"
     ]
    }
   ],
   "source": [
    "null_values = Sales_data.isnull().sum()\n",
    "print(\"Null values in each column:\\n\", null_values)\n",
    "print(\"\\n Total null values in the dataset:\", null_values.sum())"
   ]
  },
  {
   "cell_type": "code",
   "execution_count": 5,
   "id": "f4152a05-0fba-45dc-8ea5-50e82302fcb1",
   "metadata": {
    "tags": []
   },
   "outputs": [],
   "source": [
    "filtered_data = Sales_data[Sales_data['Client City'] != 'No City']"
   ]
  },
  {
   "cell_type": "code",
   "execution_count": 6,
   "id": "03296c1c-3efb-49d3-9cb2-d235800af493",
   "metadata": {},
   "outputs": [
    {
     "name": "stderr",
     "output_type": "stream",
     "text": [
      "C:\\Users\\shubh\\AppData\\Local\\Temp\\ipykernel_13316\\3503641450.py:1: SettingWithCopyWarning: \n",
      "A value is trying to be set on a copy of a slice from a DataFrame.\n",
      "Try using .loc[row_indexer,col_indexer] = value instead\n",
      "\n",
      "See the caveats in the documentation: https://pandas.pydata.org/pandas-docs/stable/user_guide/indexing.html#returning-a-view-versus-a-copy\n",
      "  filtered_data['Row Count'] = filtered_data.groupby('Client City')['Client City'].transform('count')\n"
     ]
    }
   ],
   "source": [
    "filtered_data['Row Count'] = filtered_data.groupby('Client City')['Client City'].transform('count')"
   ]
  },
  {
   "cell_type": "code",
   "execution_count": 7,
   "id": "96fb9adf-e69e-472c-933b-cec0980b6878",
   "metadata": {},
   "outputs": [],
   "source": [
    "##Main DF which we are using everwhere\n",
    "filtered_customer_distributaion_main = filtered_data[filtered_data['Row Count'] > 10000]"
   ]
  },
  {
   "cell_type": "code",
   "execution_count": null,
   "id": "522d47f3-7705-4f52-b249-c60c0b833f5e",
   "metadata": {
    "tags": []
   },
   "outputs": [],
   "source": [
    "# filtered_customer_distributaion_main.to_csv(filename.csv)"
   ]
  },
  {
   "cell_type": "markdown",
   "id": "635101d7-100b-4deb-9886-f7caf3bf8811",
   "metadata": {},
   "source": [
    "### Question number 2) a)"
   ]
  },
  {
   "cell_type": "code",
   "execution_count": null,
   "id": "6c97d07a-222d-4304-97d7-7e6ba41a0fa3",
   "metadata": {
    "tags": []
   },
   "outputs": [],
   "source": [
    "product_frequency = filtered_customer_distribution_main.groupby(['Client', 'Product Category']).size().reset_index(name='Frequency')"
   ]
  },
  {
   "cell_type": "code",
   "execution_count": null,
   "id": "6c182168-c080-426b-b75b-9f20abd07aaa",
   "metadata": {
    "tags": []
   },
   "outputs": [],
   "source": [
    "product_frequency_sorted = product_frequency.sort_values(by = 'Frequency', ascending=False)"
   ]
  },
  {
   "cell_type": "code",
   "execution_count": null,
   "id": "36507b39-df3e-428f-9ef5-3ec209dbf0bd",
   "metadata": {
    "tags": []
   },
   "outputs": [],
   "source": [
    "top_n = 15\n",
    "top_frequent_products = product_frequency_sorted.head(top_n)\n",
    "plt.figure(figsize = (10,6))\n",
    "plt.bar(top_frequent_products['Product Category'], top_frequent_products['Frequency'])\n",
    "plt.xlabel('Product Category')\n",
    "plt.ylabel('Frequency')\n",
    "plt.title('Top {} Most frequently Purchased product categories by individual by Individual Customers'.format(top_n))\n",
    "plt.xticks(rotation =45)\n",
    "plt.show()"
   ]
  },
  {
   "cell_type": "code",
   "execution_count": null,
   "id": "4462b9d8-02de-45d4-b458-d9bebc793cdb",
   "metadata": {
    "tags": []
   },
   "outputs": [],
   "source": [
    "product_frequency = filtered_customer_distribution_main.groupby(['Client','Product Category']).size().reset_index(name='Frequency')"
   ]
  },
  {
   "cell_type": "code",
   "execution_count": null,
   "id": "89893253-bc68-4df7-bbd6-908d61b383ee",
   "metadata": {
    "tags": []
   },
   "outputs": [],
   "source": [
    "product_pivot = product_frequency.pivot_table(index='Client', columns='Product Category', fill_value=0)"
   ]
  },
  {
   "cell_type": "code",
   "execution_count": null,
   "id": "f8091e1f-3629-4f0b-b078-8ba98a5072df",
   "metadata": {
    "tags": []
   },
   "outputs": [],
   "source": [
    "scaler = StandardScaler()\n",
    "X_scaled = scaler.fit_transform(product_pivot)\n",
    "X_scaled=pd.DataFrame(X_scaled, columns=product_pivot.columns)"
   ]
  },
  {
   "cell_type": "code",
   "execution_count": null,
   "id": "b399986b-73ac-480f-b7ff-9afbfd7cd691",
   "metadata": {
    "tags": []
   },
   "outputs": [],
   "source": [
    "kmeans = KMeans(n_clusters=5, random_state=42)\n",
    "kmeans.fit(X_scaled)"
   ]
  },
  {
   "cell_type": "code",
   "execution_count": null,
   "id": "fe76f99d-fe22-4e85-b9b0-cc5364b7c6d5",
   "metadata": {
    "tags": []
   },
   "outputs": [],
   "source": [
    "inertias = []\n",
    "for k in range(1, 11):\n",
    "    kmeans = KMeans(n_clusters=k, random_state=42)\n",
    "    kmeans.fit(X_scaled)\n",
    "    inertias.append([k, kmeans.inertia_])\n",
    "(\n",
    "    pd.DataFrame(inertias, columns=['k','inertias'])\n",
    "    .pipe(so.Plot, x='k', y='inertias')\n",
    "    .add(so.Line(marker='o'))\n",
    "    .label(title=\"Elbow Method for Optimal Clusters\")\n",
    ")"
   ]
  },
  {
   "cell_type": "code",
   "execution_count": null,
   "id": "d52b377c-8daf-4ba2-8717-8617c54eaa49",
   "metadata": {
    "tags": []
   },
   "outputs": [],
   "source": [
    "silhouette_scores = []\n",
    "for k in range(2, 11):\n",
    "    kmeans = KMeans(n_clusters=k, random_state=42)\n",
    "    kmeans.fit(X_scaled)\n",
    "    # score = silhouette_score(X_scaled, kmeans.labels_)\n",
    "    silhouette_scores.append([k,silhouette_score(X_scaled, kmeans.labels_)])\n",
    "\n",
    "(\n",
    "    pd.DataFrame(silhouette_scores, columns=['k','silhouette_scores'])\n",
    "    .pipe(so.Plot, x='k', y='silhouette_scores')\n",
    "    .add(so.Line(marker='o'))\n",
    "    .label(title=\"Elbow Method for Optimal Clusters\")\n",
    ")"
   ]
  },
  {
   "cell_type": "code",
   "execution_count": null,
   "id": "5653ff84-acb5-40ca-990d-c6737d9a97bb",
   "metadata": {
    "tags": []
   },
   "outputs": [],
   "source": [
    "# Choose the best number of clusters (e.g., 3) based on the above analysis\n",
    "best_k = 4\n",
    "kmeans_final = KMeans(n_clusters=best_k, random_state=42)\n",
    "kmeans_final.fit(X_scaled)"
   ]
  },
  {
   "cell_type": "code",
   "execution_count": null,
   "id": "f16a3f91-0101-4259-91b8-6bbb2fad6cc8",
   "metadata": {
    "tags": []
   },
   "outputs": [],
   "source": [
    "product_pivot['Cluster'] = kmeans_final.labels_"
   ]
  },
  {
   "cell_type": "code",
   "execution_count": null,
   "id": "41088bff-d2f8-4153-bd0c-d69f61101f95",
   "metadata": {
    "tags": []
   },
   "outputs": [],
   "source": [
    "cluster_summary = product_pivot.groupby('Cluster').mean()\n",
    "cluster_summary"
   ]
  },
  {
   "cell_type": "code",
   "execution_count": null,
   "id": "fc116f22-a86e-472c-ae2d-d2cce552c54e",
   "metadata": {
    "tags": []
   },
   "outputs": [],
   "source": [
    "cluster_summary_transposed = cluster_summary.transpose()"
   ]
  },
  {
   "cell_type": "code",
   "execution_count": null,
   "id": "c0f821a0-0ad8-4c92-bba3-c7b3f62d93e5",
   "metadata": {
    "tags": []
   },
   "outputs": [],
   "source": [
    "cluster_summary_transposed = cluster_summary_transposed.apply(pd.to_numeric, errors = 'coerce')"
   ]
  },
  {
   "cell_type": "code",
   "execution_count": null,
   "id": "b2f12eee-15c3-473d-bcbe-56e815a13579",
   "metadata": {
    "tags": []
   },
   "outputs": [],
   "source": [
    "if isinstance(cluster_summary_transposed.index,pd.MultiIndex):\n",
    "    cluster_summary_transposed.index = [''.join(map(str,idx)) for idx in cluster_summary_transposed.index]"
   ]
  },
  {
   "cell_type": "code",
   "execution_count": null,
   "id": "c2ae2f8a-e318-41b2-a870-128222a4c05a",
   "metadata": {
    "tags": []
   },
   "outputs": [],
   "source": [
    "plt.figure(figsize=(15,10))\n",
    "for cluster in cluster_summary_transposed.columns:\n",
    "    plt.plot(cluster_summary_transposed.index,\n",
    "            cluster_summary_transposed[cluster],\n",
    "            label=f'Cluster{cluster}')\n",
    "plt.xticks(rotation=45)\n",
    "plt.ylabel('Average Purchase Frequency')\n",
    "plt.title('Average Purchase Frequency for Each Product Category by Cluster')\n",
    "plt.legend()\n",
    "plt.show()"
   ]
  },
  {
   "cell_type": "markdown",
   "id": "f5d0ac92-64ff-4e06-bcf8-3a46a27551a7",
   "metadata": {
    "tags": []
   },
   "source": [
    "### Question no 2 b)"
   ]
  },
  {
   "cell_type": "code",
   "execution_count": null,
   "id": "010dfa0c-d0e6-48eb-a5b6-e2e937cd6877",
   "metadata": {
    "tags": []
   },
   "outputs": [],
   "source": [
    "from matplotlib.ticker import FuncFormatter"
   ]
  },
  {
   "cell_type": "code",
   "execution_count": null,
   "id": "64a3d383-4a15-4d19-a08b-ce3494449316",
   "metadata": {
    "tags": []
   },
   "outputs": [],
   "source": [
    "def millions_formattor(x, pos):\n",
    "    return f'{int(x/1e6)}M'"
   ]
  },
  {
   "cell_type": "code",
   "execution_count": null,
   "id": "bd384274-f693-4ecc-a8ab-b4e000ad1c00",
   "metadata": {
    "tags": []
   },
   "outputs": [],
   "source": [
    "X = filtered_customer_distribution_main\n",
    "X['Sale Date Time'] = pd.to_datetime(X['Sale Date Time'])"
   ]
  },
  {
   "cell_type": "code",
   "execution_count": null,
   "id": "ab30b1e4-0ce6-4445-9fcc-be80e82f6ba0",
   "metadata": {
    "tags": []
   },
   "outputs": [],
   "source": [
    "monthly_spending = X.resample('M', on='Sale Date Time').sum()['Total']"
   ]
  },
  {
   "cell_type": "code",
   "execution_count": null,
   "id": "c11c3ce1-7e69-407a-b85c-d8c0a5c797ba",
   "metadata": {
    "tags": []
   },
   "outputs": [],
   "source": [
    "plt.figure(figsize=(12,6))\n",
    "sns.lineplot(x=monthly_spending.index, y=monthly_spending.values)\n",
    "plt.gca().yaxis.set_major_formatter(FuncFormatter(millions_formattor))\n",
    "plt.xlabel('Month')\n",
    "plt.ylabel('Total Spending')\n",
    "plt.title('Monthly total spending Across All customers')\n",
    "plt.show()"
   ]
  },
  {
   "cell_type": "code",
   "execution_count": null,
   "id": "09631f9b-5d3d-4f24-866c-2d1952904f22",
   "metadata": {
    "tags": []
   },
   "outputs": [],
   "source": [
    "plt.figure(figsize=(12, 6))\n",
    "sns.boxplot(x=monthly_spending.index.month, y=monthly_spending.values)\n",
    "plt.gca().yaxis.set_major_formatter(FuncFormatter(millions_formattor))\n",
    "plt.xlabel('Month')\n",
    "plt.ylabel('Total Spending')\n",
    "plt.title('Distribution of Monthly Spending Across All Customers')\n",
    "plt.xticks(rotation=45)\n",
    "plt.show()"
   ]
  },
  {
   "cell_type": "code",
   "execution_count": null,
   "id": "811b873b-58d1-4942-a328-43b4bc6410de",
   "metadata": {
    "tags": []
   },
   "outputs": [],
   "source": [
    "X = filtered_customer_distribution_main.copy()"
   ]
  },
  {
   "cell_type": "code",
   "execution_count": null,
   "id": "460bd9e8-c21e-42fa-877c-195660519925",
   "metadata": {
    "tags": []
   },
   "outputs": [],
   "source": [
    "X['Sale Date Time'] = pd.to_datetime(X['Sale Date Time'])"
   ]
  },
  {
   "cell_type": "code",
   "execution_count": null,
   "id": "44fd3814-3e4c-451c-bf4a-47774af530eb",
   "metadata": {
    "tags": []
   },
   "outputs": [],
   "source": [
    "customer_spending = X.groupby('Client').resample('M', on='Sale Date Time').sum(numeric_only=True)['Total']"
   ]
  },
  {
   "cell_type": "code",
   "execution_count": null,
   "id": "9b2d0a19-5572-428a-b439-4b493e7c6030",
   "metadata": {
    "tags": []
   },
   "outputs": [],
   "source": [
    "customer_spending_reset = customer_spending.reset_index()\n",
    "customer_spending_pivot = customer_spending_reset.pivot(index='Client', columns='Sale Date Time', values='Total').fillna(0)"
   ]
  },
  {
   "cell_type": "code",
   "execution_count": null,
   "id": "daed5e8b-bb1a-4469-a248-c3a9e2362521",
   "metadata": {
    "tags": []
   },
   "outputs": [],
   "source": [
    "scaler = StandardScaler()\n",
    "X_scaled = scaler.fit_transform(customer_spending_pivot)\n",
    "X_scaled = pd.DataFrame(X_scaled, columns=customer_spending_pivot.columns)"
   ]
  },
  {
   "cell_type": "code",
   "execution_count": null,
   "id": "01de3729-d891-4ff4-8985-e8121288b039",
   "metadata": {
    "tags": []
   },
   "outputs": [],
   "source": [
    "kmeans = KMeans(n_clusters=5, init='random', n_init=1, random_state=468)\n",
    "kmeans.fit(X_scaled)"
   ]
  },
  {
   "cell_type": "code",
   "execution_count": null,
   "id": "1890e1d0-5020-4b1c-9dd3-3c5664f0f757",
   "metadata": {
    "tags": []
   },
   "outputs": [],
   "source": [
    "inertias = []\n",
    "for k in range(1, 11):\n",
    "    kmeans = KMeans(n_clusters=k, random_state=42)\n",
    "    kmeans.fit(X_scaled)\n",
    "    inertias.append([k, kmeans.inertia_])\n",
    "(\n",
    "    pd.DataFrame(inertias, columns=['k','inertias'])\n",
    "    .pipe(so.Plot, x='k', y='inertias')\n",
    "    .add(so.Line(marker='o'))\n",
    "    .label(title=\"Elbow Method for Optimal Clusters\")\n",
    ")"
   ]
  },
  {
   "cell_type": "code",
   "execution_count": null,
   "id": "656fcdd5-80e1-4860-bcc2-6da1fe3982f7",
   "metadata": {
    "tags": []
   },
   "outputs": [],
   "source": [
    "silhouette_scores = []\n",
    "for k in range(2, 11):\n",
    "    kmeans = KMeans(n_clusters=k, random_state=42)\n",
    "    kmeans.fit(X_scaled)\n",
    "    # score = silhouette_score(X_scaled, kmeans.labels_)\n",
    "    silhouette_scores.append([k,silhouette_score(X_scaled, kmeans.labels_)])\n",
    "\n",
    "(\n",
    "    pd.DataFrame(silhouette_scores, columns=['k','silhouette_scores'])\n",
    "    .pipe(so.Plot, x='k', y='silhouette_scores')\n",
    "    .add(so.Line(marker='o'))\n",
    "    .label(title=\"Elbow Method for Optimal Clusters\")\n",
    ")"
   ]
  },
  {
   "cell_type": "code",
   "execution_count": null,
   "id": "c33cb7f7-3c4d-42df-bf7d-0524d6b4b805",
   "metadata": {
    "tags": []
   },
   "outputs": [],
   "source": [
    "best_k = 4\n",
    "kmeans_final = KMeans(n_clusters=best_k, random_state=42)\n",
    "kmeans_final.fit(X_scaled)\n",
    "\n",
    "customer_spending_pivot['Cluster'] = kmeans_final.labels_\n",
    "\n",
    "cluster_summary = customer_spending_pivot.groupby('Cluster').mean()\n",
    "\n",
    "cluster_summary_transposed = cluster_summary.transpose()\n",
    "\n",
    "plt.figure(figsize=(15, 10))\n",
    "for cluster in cluster_summary_transposed.columns:\n",
    "    plt.plot(cluster_summary_transposed.index, \n",
    "             cluster_summary_transposed[cluster], \n",
    "             label=f'Cluster {cluster}')\n",
    "# plt.gca().yaxis.set_major_formatter(FuncFormatter(millions_formattor))\n",
    "plt.xticks(rotation=45)\n",
    "plt.ylabel('Average Spending')\n",
    "plt.title('Average Spending Over Time for Each Cluster')\n",
    "plt.legend()\n",
    "plt.show()"
   ]
  },
  {
   "cell_type": "markdown",
   "id": "ba5f7fa4-e3a5-4a31-ad09-843b259958a5",
   "metadata": {},
   "source": [
    "### Question 2) c)"
   ]
  },
  {
   "cell_type": "code",
   "execution_count": null,
   "id": "1c3ba349-4f23-47d7-8b34-c8f2e8f5b936",
   "metadata": {
    "tags": []
   },
   "outputs": [],
   "source": [
    "df = filtered_customer_distribution_main"
   ]
  },
  {
   "cell_type": "code",
   "execution_count": null,
   "id": "2085472e-4142-41e1-89fa-96bfcc2164e3",
   "metadata": {
    "tags": []
   },
   "outputs": [],
   "source": [
    "payment_preference = df.groupby(['Client City', 'Form of Payment']).size().reset_index(name='Count')"
   ]
  },
  {
   "cell_type": "code",
   "execution_count": null,
   "id": "00c7ca99-233c-4d0e-b9f6-6ed763d5366a",
   "metadata": {
    "tags": []
   },
   "outputs": [],
   "source": [
    "payment_pivot = payment_preference.pivot_table(index='Client City',columns='Form of Payment',values='Count',fill_value=0)"
   ]
  },
  {
   "cell_type": "code",
   "execution_count": null,
   "id": "c4849dc6-208f-4062-bebf-1ff0cef26ed3",
   "metadata": {
    "tags": []
   },
   "outputs": [],
   "source": [
    "cities = payment_pivot.index"
   ]
  },
  {
   "cell_type": "code",
   "execution_count": null,
   "id": "67536cfe-f6f0-486d-8952-0d9ae154cdc7",
   "metadata": {
    "tags": []
   },
   "outputs": [],
   "source": [
    "forms_of_payment = payment_pivot.columns"
   ]
  },
  {
   "cell_type": "code",
   "execution_count": null,
   "id": "694d8a2e-7dc6-4928-bba1-a6ab01018a62",
   "metadata": {
    "tags": []
   },
   "outputs": [],
   "source": [
    "date_for_plot = [payment_pivot[form_of_payment].values for form_of_payment in forms_of_payment]"
   ]
  },
  {
   "cell_type": "code",
   "execution_count": null,
   "id": "af590612-497b-4562-907a-b884ba0b052c",
   "metadata": {
    "tags": []
   },
   "outputs": [],
   "source": [
    "plt.figure(figsize=(12,6))\n",
    "plt.stackplot(cities, data_for_plot, labels=forms_of_payment)\n",
    "plt.xlabel('Client City')\n",
    "plt.ylabel('Count')\n",
    "plt.title('Prefereed forms of payment')\n",
    "plt.legend(loc='upper left')\n",
    "plt.xticks(rotation=45)\n",
    "plt.show()"
   ]
  },
  {
   "cell_type": "code",
   "execution_count": null,
   "id": "44ad1504-99a7-48c8-b5c1-1ac7b85a687e",
   "metadata": {
    "tags": []
   },
   "outputs": [],
   "source": [
    "df = filtered_customer_distribution_main  # Using your DataFrame"
   ]
  },
  {
   "cell_type": "code",
   "execution_count": null,
   "id": "a0c96bfb-4d1d-44a3-a24d-575592c72e47",
   "metadata": {
    "tags": []
   },
   "outputs": [],
   "source": [
    "payment_frequency = df.groupby(['Client', 'Form of Payment']).size().reset_index(name='Frequency')"
   ]
  },
  {
   "cell_type": "code",
   "execution_count": null,
   "id": "68b0adb1-e923-44b0-a5d8-2354902790cf",
   "metadata": {
    "tags": []
   },
   "outputs": [],
   "source": [
    "\n",
    "payment_pivot = payment_frequency.pivot_table(index='Client', columns='Form of Payment', fill_value=0)\n"
   ]
  },
  {
   "cell_type": "code",
   "execution_count": null,
   "id": "c1590ce8-dd8b-40ed-b8ae-39d81694b297",
   "metadata": {
    "tags": []
   },
   "outputs": [],
   "source": [
    "\n",
    "scaler = StandardScaler()\n",
    "X_scaled = scaler.fit_transform(payment_pivot)\n",
    "X_scaled = pd.DataFrame(X_scaled, columns=payment_pivot.columns)"
   ]
  },
  {
   "cell_type": "code",
   "execution_count": null,
   "id": "055c1b1d-5a6f-4946-b138-37a6cc99e1a3",
   "metadata": {
    "tags": []
   },
   "outputs": [],
   "source": [
    "\n",
    "kmeans = KMeans(n_clusters=5, random_state=42)\n",
    "kmeans.fit(X_scaled)"
   ]
  },
  {
   "cell_type": "code",
   "execution_count": null,
   "id": "9bc04287-52d7-4e0d-9b8d-d8f874fe0231",
   "metadata": {
    "tags": []
   },
   "outputs": [],
   "source": [
    "inertias = []\n",
    "for k in range(1, 11):\n",
    "    kmeans = KMeans(n_clusters=k, random_state=42)\n",
    "    kmeans.fit(X_scaled)\n",
    "    inertias.append([k, kmeans.inertia_])\n",
    "(\n",
    "    pd.DataFrame(inertias, columns=['k','inertias'])\n",
    "    .pipe(so.Plot, x='k', y='inertias')\n",
    "    .add(so.Line(marker='o'))\n",
    "    .label(title=\"Elbow Method for Optimal Clusters\")\n",
    ")"
   ]
  },
  {
   "cell_type": "code",
   "execution_count": null,
   "id": "758399fe-160d-4774-80b3-99bc6a94f8ad",
   "metadata": {
    "tags": []
   },
   "outputs": [],
   "source": [
    "silhouette_scores = []\n",
    "for k in range(2, 11):\n",
    "    kmeans = KMeans(n_clusters=k, random_state=42)\n",
    "    kmeans.fit(X_scaled)\n",
    "    # score = silhouette_score(X_scaled, kmeans.labels_)\n",
    "    silhouette_scores.append([k,silhouette_score(X_scaled, kmeans.labels_)])\n",
    "\n",
    "(\n",
    "    pd.DataFrame(silhouette_scores, columns=['k','silhouette_scores'])\n",
    "    .pipe(so.Plot, x='k', y='silhouette_scores')\n",
    "    .add(so.Line(marker='o'))\n",
    "    .label(title=\"Elbow Method for Optimal Clusters\")\n",
    ")"
   ]
  },
  {
   "cell_type": "code",
   "execution_count": null,
   "id": "9ba6cb25-8e0a-4e1e-9e00-3340253d34c0",
   "metadata": {
    "tags": []
   },
   "outputs": [],
   "source": [
    "best_k = 3  \n",
    "kmeans_final = KMeans(n_clusters=best_k, random_state=42)\n",
    "kmeans_final.fit(X_scaled)"
   ]
  },
  {
   "cell_type": "code",
   "execution_count": null,
   "id": "fad7345c-7881-436f-9b1d-b6361162d33b",
   "metadata": {
    "tags": []
   },
   "outputs": [],
   "source": [
    "payment_pivot['Cluster'] = kmeans_final.labels_\n",
    "cluster_summary = payment_pivot.groupby('Cluster').mean()"
   ]
  },
  {
   "cell_type": "code",
   "execution_count": null,
   "id": "1900f750-7fea-45aa-9501-b8b51521ddc1",
   "metadata": {
    "tags": []
   },
   "outputs": [],
   "source": [
    "cluster_summary_transposed = cluster_summary.transpose()"
   ]
  },
  {
   "cell_type": "code",
   "execution_count": null,
   "id": "79647557-4a63-4558-821e-25260b36be29",
   "metadata": {
    "tags": []
   },
   "outputs": [],
   "source": [
    "if isinstance(cluster_summary_transposed.index, pd.MultiIndex):\n",
    "    cluster_summary_transposed.index = [' '.join(map(str, ind)) for ind in cluster_summary_transposed.index]\n",
    "cluster_summary_transposed.columns = cluster_summary_transposed.columns.astype(str)"
   ]
  },
  {
   "cell_type": "code",
   "execution_count": null,
   "id": "6833f0a1-7d68-41eb-8439-eda1091194fb",
   "metadata": {
    "tags": []
   },
   "outputs": [],
   "source": [
    "plt.figure(figsize=(15, 10))\n",
    "for cluster in cluster_summary_transposed.columns:\n",
    "    plt.plot(cluster_summary_transposed.index, \n",
    "             cluster_summary_transposed[cluster], \n",
    "             label=f'Cluster {cluster}')\n",
    "\n",
    "plt.xticks(rotation=45)\n",
    "plt.ylabel('Average Frequency of Payment Type')\n",
    "plt.title('Average Payment Type Frequency for Each Cluster')\n",
    "plt.legend()\n",
    "plt.show()"
   ]
  },
  {
   "cell_type": "markdown",
   "id": "115b96c9-7b2a-4922-91f2-348b1df99c05",
   "metadata": {},
   "source": [
    "### Question 2 d)"
   ]
  },
  {
   "cell_type": "code",
   "execution_count": null,
   "id": "e6946ef1-f9b8-47bd-8c2d-34a85378ff18",
   "metadata": {
    "tags": []
   },
   "outputs": [],
   "source": [
    "import pandas as pd\n",
    "import matplotlib.pyplot as plt\n",
    "import seaborn as sns\n",
    "\n",
    "# Assuming df is your DataFrame\n",
    "df = filtered_customer_distribution_main\n",
    "\n",
    "# Convert 'Sale Date Time' to datetime\n",
    "df['Sale Date Time'] = pd.to_datetime(df['Sale Date Time'])\n",
    "\n",
    "# Extract day of the week and hour of the day\n",
    "df['Day of Week'] = df['Sale Date Time'].dt.day_name()\n",
    "df['Hour of Day'] = df['Sale Date Time'].dt.hour"
   ]
  },
  {
   "cell_type": "code",
   "execution_count": null,
   "id": "5c5ae95e-8608-40f7-811e-a3e8f096e89f",
   "metadata": {
    "tags": []
   },
   "outputs": [],
   "source": [
    "# Aggregate sales by day of the week\n",
    "sales_by_day = df.groupby('Day of Week')['Total'].sum()\n",
    "\n",
    "# Order the days for the plot\n",
    "ordered_days = ['Monday', 'Tuesday', 'Wednesday', 'Thursday', 'Friday', 'Saturday', 'Sunday']\n",
    "sales_by_day = sales_by_day.reindex(ordered_days)"
   ]
  },
  {
   "cell_type": "code",
   "execution_count": null,
   "id": "2d6a04cc-9f9b-4b33-88c3-6e56cf7f6944",
   "metadata": {
    "tags": []
   },
   "outputs": [],
   "source": [
    "# Plotting sales by day of the week\n",
    "plt.figure(figsize=(10, 6))\n",
    "sns.barplot(x=sales_by_day.index, y=sales_by_day.values)\n",
    "plt.xlabel('Day of the Week')\n",
    "plt.ylabel('Total Sales')\n",
    "plt.title('Total Sales by Day of the Week')\n",
    "plt.show()\n",
    "\n",
    "# Aggregate sales by hour of the day\n",
    "sales_by_hour = df.groupby('Hour of Day')['Total'].sum()\n",
    "\n",
    "# Plotting sales by hour of the day\n",
    "plt.figure(figsize=(12, 6))\n",
    "sns.barplot(x=sales_by_hour.index, y=sales_by_hour.values)\n",
    "plt.xlabel('Hour of the Day')\n",
    "plt.ylabel('Total Sales')\n",
    "plt.title('Total Sales by Hour of the Day')\n",
    "plt.xticks(range(0, 24))\n",
    "plt.show()"
   ]
  },
  {
   "cell_type": "code",
   "execution_count": null,
   "id": "f430a23b-b725-47b9-8b44-4266dafc6249",
   "metadata": {
    "tags": []
   },
   "outputs": [],
   "source": [
    "import pandas as pd\n",
    "import matplotlib.pyplot as plt\n",
    "import seaborn as sns\n",
    "from sklearn.cluster import KMeans\n",
    "from sklearn.preprocessing import StandardScaler\n",
    "from sklearn.metrics import silhouette_score\n",
    "\n",
    "# Load your data into a DataFrame\n",
    "# Assuming df is your DataFrame\n",
    "df = filtered_customer_distribution_main.copy()\n",
    "\n",
    "# Convert 'Sale Date Time' to datetime and extract time features\n",
    "df['Sale Date Time'] = pd.to_datetime(df['Sale Date Time'])\n",
    "df['Day of Week'] = df['Sale Date Time'].dt.dayofweek  # 0: Monday, 6: Sunday\n",
    "df['Hour of Day'] = df['Sale Date Time'].dt.hour\n",
    "\n",
    "# Group by 'Client', 'Day of Week', and 'Hour of Day' and count the occurrences\n",
    "time_frequency = df.groupby(['Client', 'Day of Week', 'Hour of Day']).size().reset_index(name='Frequency')\n",
    "\n",
    "# Pivot the table to get 'Day of Week' and 'Hour of Day' as features\n",
    "time_pivot = time_frequency.pivot_table(index='Client', columns=['Day of Week', 'Hour of Day'], fill_value=0)\n",
    "\n",
    "# Flatten MultiIndex columns for KMeans\n",
    "time_pivot.columns = ['DOW_' + str(col[0]) + '_HOD_' + str(col[1]) for col in time_pivot.columns.values]\n",
    "\n",
    "# Scale the data\n",
    "scaler = StandardScaler()\n",
    "X_scaled = scaler.fit_transform(time_pivot)\n",
    "X_scaled = pd.DataFrame(X_scaled, columns=time_pivot.columns)\n",
    "\n",
    "# K-means clustering\n",
    "kmeans = KMeans(n_clusters=5, random_state=42)\n",
    "kmeans.fit(X_scaled)\n",
    "\n",
    "# Elbow Method\n",
    "inertias = []\n",
    "for k in range(1, 11):\n",
    "    kmeans_temp = KMeans(n_clusters=k, random_state=42)\n",
    "    kmeans_temp.fit(X_scaled)\n",
    "    inertias.append(kmeans_temp.inertia_)\n",
    "\n",
    "# Plotting the Elbow Method\n",
    "plt.figure(figsize=(10, 6))\n",
    "plt.plot(range(1, 11), inertias, marker='o')\n",
    "plt.xlabel('Number of Clusters')\n",
    "plt.ylabel('Inertia')\n",
    "plt.title('Elbow Method for Optimal Clusters')\n",
    "plt.show()\n",
    "\n",
    "# Silhouette Analysis\n",
    "silhouette_scores = []\n",
    "for k in range(2, 11):\n",
    "    kmeans_temp = KMeans(n_clusters=k, random_state=42)\n",
    "    kmeans_temp.fit(X_scaled)\n",
    "    score = silhouette_score(X_scaled, kmeans_temp.labels_)\n",
    "    silhouette_scores.append(score)\n",
    "\n",
    "# Plotting the Silhouette Analysis\n",
    "plt.figure(figsize=(10, 6))\n",
    "plt.plot(range(2, 11), silhouette_scores, marker='o')\n",
    "plt.xlabel('Number of Clusters')\n",
    "plt.ylabel('Silhouette Score')\n",
    "plt.title('Silhouette Analysis for Optimal Clusters')\n",
    "plt.show()\n",
    "\n",
    "# Choose the best number of clusters based on the analysis\n",
    "best_k = 7  # Replace with the actual best_k found from analysis\n",
    "kmeans_final = KMeans(n_clusters=best_k, random_state=42)\n",
    "kmeans_final.fit(X_scaled)\n",
    "\n",
    "# Add the cluster labels to the DataFrame\n",
    "time_pivot['Cluster'] = kmeans_final.labels_\n",
    "\n",
    "# Aggregate statistics per cluster\n",
    "cluster_summary = time_pivot.groupby('Cluster').mean()\n",
    "\n",
    "# Visualization: Plotting the mean frequency for each time slot in each cluster\n",
    "cluster_summary_transposed = cluster_summary.transpose()\n",
    "\n",
    "plt.figure(figsize=(15, 10))\n",
    "sns.heatmap(cluster_summary_transposed, cmap=\"YlGnBu\")\n",
    "plt.xlabel('Cluster')\n",
    "plt.ylabel('Time Slot')\n",
    "plt.title('Average Purchase Frequency for Each Time Slot by Cluster')\n",
    "plt.show()"
   ]
  },
  {
   "cell_type": "markdown",
   "id": "2e4201fb-949d-4899-aca6-556ec962221b",
   "metadata": {},
   "source": [
    "### Question 4) a)"
   ]
  },
  {
   "cell_type": "code",
   "execution_count": null,
   "id": "96367548-f1f1-40ce-ba8f-82c3a434ba13",
   "metadata": {
    "tags": []
   },
   "outputs": [],
   "source": [
    "df = filtered_customer_distribution_main\n",
    "average_discount_by_city = df.groupby('Client City')['Discount Amount'].mean().reset_index()"
   ]
  },
  {
   "cell_type": "code",
   "execution_count": null,
   "id": "368727af-a50d-4343-a602-3473770f5f80",
   "metadata": {
    "tags": []
   },
   "outputs": [],
   "source": [
    "average_discount_by_city = average_discount_by_city.sort_values(by='Discount Amount', ascending=False)"
   ]
  },
  {
   "cell_type": "code",
   "execution_count": null,
   "id": "7b7769a5-3671-4515-bc48-c35fd99f79c4",
   "metadata": {
    "tags": []
   },
   "outputs": [],
   "source": [
    "plt.figure(figsize=(12, 6))\n",
    "sns.barplot(x='Client City', y='Discount Amount', data=average_discount_by_city)\n",
    "plt.xlabel('Client City')\n",
    "plt.ylabel('Average Discount Amount')\n",
    "plt.title('Average Discount Amount by Client City')\n",
    "plt.xticks(rotation=45)\n",
    "plt.show()"
   ]
  },
  {
   "cell_type": "code",
   "execution_count": null,
   "id": "f92eab43-5cfc-4ace-89c6-c8c0e43d6ca4",
   "metadata": {
    "tags": []
   },
   "outputs": [],
   "source": [
    "import pandas as pd\n",
    "import matplotlib.pyplot as plt\n",
    "import seaborn as sns\n",
    "from sklearn.cluster import KMeans\n",
    "from sklearn.preprocessing import StandardScaler\n",
    "from sklearn.metrics import silhouette_score\n",
    "\n",
    "# Load your data into a DataFrame\n",
    "# df = pd.read_csv('path_to_your_dataset.csv')  # Replace with your actual data loading code\n",
    "\n",
    "df = filtered_customer_distribution_main.copy()\n",
    "\n",
    "# Adding a feature to represent discount utilization\n",
    "df['Discount Utilized'] = df['Discount Amount'] > 0\n",
    "\n",
    "# Group by 'Client' and potentially other features like 'Product Category'\n",
    "discount_frequency = df.groupby(['Client', 'Product Category'])['Discount Utilized'].mean().reset_index()\n",
    "\n",
    "# Pivot the table\n",
    "discount_pivot = discount_frequency.pivot_table(index='Client', columns='Product Category', values='Discount Utilized', fill_value=0)\n",
    "\n",
    "# Flatten the MultiIndex columns if required\n",
    "discount_pivot.columns = ['Category_' + str(col) for col in discount_pivot.columns.values]\n",
    "\n",
    "# Scale the data\n",
    "scaler = StandardScaler()\n",
    "X_scaled = scaler.fit_transform(discount_pivot)\n",
    "X_scaled = pd.DataFrame(X_scaled, columns=discount_pivot.columns)\n",
    "\n",
    "# K-means clustering\n",
    "kmeans = KMeans(n_clusters=5, random_state=42)\n",
    "kmeans.fit(X_scaled)\n",
    "\n",
    "# Elbow Method\n",
    "inertias = []\n",
    "for k in range(1, 11):\n",
    "    kmeans_temp = KMeans(n_clusters=k, random_state=42)\n",
    "    kmeans_temp.fit(X_scaled)\n",
    "    inertias.append(kmeans_temp.inertia_)\n",
    "\n",
    "# Plotting the Elbow Method\n",
    "plt.figure(figsize=(10, 6))\n",
    "plt.plot(range(1, 11), inertias, marker='o')\n",
    "plt.xlabel('Number of Clusters')\n",
    "plt.ylabel('Inertia')\n",
    "plt.title('Elbow Method for Optimal Clusters')\n",
    "plt.show()\n",
    "\n",
    "# Silhouette Analysis\n",
    "silhouette_scores = []\n",
    "for k in range(2, 11):\n",
    "    kmeans_temp = KMeans(n_clusters=k, random_state=42)\n",
    "    kmeans_temp.fit(X_scaled)\n",
    "    score = silhouette_score(X_scaled, kmeans_temp.labels_)\n",
    "    silhouette_scores.append(score)\n",
    "\n",
    "# Plotting the Silhouette Analysis\n",
    "plt.figure(figsize=(10, 6))\n",
    "plt.plot(range(2, 11), silhouette_scores, marker='o')\n",
    "plt.xlabel('Number of Clusters')\n",
    "plt.ylabel('Silhouette Score')\n",
    "plt.title('Silhouette Analysis for Optimal Clusters')\n",
    "plt.show()\n",
    "\n",
    "# Choose the best number of clusters based on the analysis\n",
    "best_k = 3  # Replace with the actual best_k found from analysis\n",
    "kmeans_final = KMeans(n_clusters=best_k, random_state=42)\n",
    "kmeans_final.fit(X_scaled)\n",
    "\n",
    "# Add the cluster labels to the DataFrame\n",
    "discount_pivot['Cluster'] = kmeans_final.labels_\n",
    "\n",
    "# Aggregate statistics per cluster\n",
    "cluster_summary = discount_pivot.groupby('Cluster').mean()\n",
    "\n",
    "# Visualization: Plotting the mean discount utilization for each category in each cluster\n",
    "cluster_summary_transposed = cluster_summary.transpose()\n",
    "\n",
    "plt.figure(figsize=(15, 10))\n",
    "sns.heatmap(cluster_summary_transposed, cmap=\"YlGnBu\")\n",
    "plt.xlabel('Cluster')\n",
    "plt.ylabel('Product Category')\n",
    "plt.title('Average Discount Utilization for Each Product Category by Cluster')\n",
    "plt.show()"
   ]
  },
  {
   "cell_type": "markdown",
   "id": "48869b3b-22fc-4679-bfd2-c57e7547adbe",
   "metadata": {
    "tags": []
   },
   "source": [
    "### Q 4 b)"
   ]
  },
  {
   "cell_type": "code",
   "execution_count": null,
   "id": "0c4db040-0ef1-4f5f-a9ce-bb34912a8f0b",
   "metadata": {
    "tags": []
   },
   "outputs": [],
   "source": [
    "import pandas as pd\n",
    "import matplotlib.pyplot as plt\n",
    "import seaborn as sns\n",
    "\n",
    "# Assuming df is your DataFrame\n",
    "# df = pd.read_csv('path_to_your_dataset.csv')  # Replace with your actual data loading code\n",
    "\n",
    "df = filtered_customer_distribution_main  # Using your DataFrame\n",
    "\n",
    "# Aggregate data\n",
    "segment_data = df.groupby('Client City').agg(Total_Discount=('Discount Amount', 'sum'), \n",
    "                                             Total_Spending=('Total', 'sum')).reset_index()\n",
    "\n",
    "# Bin the data\n",
    "segment_data['Discount_Bin'] = pd.qcut(segment_data['Total_Discount'], q=5, duplicates='drop', precision=0)\n",
    "segment_data['Spending_Bin'] = pd.qcut(segment_data['Total_Spending'], q=5, duplicates='drop', precision=0)\n",
    "\n",
    "# Create a pivot table for the heatmap\n",
    "heatmap_data = segment_data.groupby(['Discount_Bin', 'Spending_Bin']).size().unstack(fill_value=0)\n",
    "\n",
    "# Plotting the heatmap\n",
    "plt.figure(figsize=(12, 6))\n",
    "sns.heatmap(heatmap_data, annot=True, cmap='viridis', fmt='g')\n",
    "plt.title('Heatmap of Total Discount vs Total Spending per Client City')\n",
    "plt.xlabel('Total Spending Bins')\n",
    "plt.ylabel('Total Discount Bins')\n",
    "plt.show()"
   ]
  },
  {
   "cell_type": "code",
   "execution_count": null,
   "id": "5780dfdb-f69f-4b52-b93d-8f8caa1d05dc",
   "metadata": {
    "tags": []
   },
   "outputs": [],
   "source": [
    "import pandas as pd\n",
    "import matplotlib.pyplot as plt\n",
    "import seaborn as sns\n",
    "from sklearn.cluster import KMeans\n",
    "from sklearn.preprocessing import StandardScaler\n",
    "from sklearn.metrics import silhouette_score\n",
    "\n",
    "# Load your data into a DataFrame 'df'\n",
    "# df = pd.read_csv('path_to_your_dataset.csv')  # Replace with your actual data loading code\n",
    "\n",
    "df = filtered_customer_distribution_main.copy()  # Using your DataFrame for demonstration\n",
    "\n",
    "# Create a feature for average discount utilization and total spending per client\n",
    "client_data = df.groupby('Client').agg(Average_Discount_Utilized=('Discount Amount', lambda x: (x > 0).mean()),\n",
    "                                       Total_Spending=('Total', 'sum')).reset_index()\n",
    "\n",
    "# Scale the data\n",
    "scaler = StandardScaler()\n",
    "X_scaled = scaler.fit_transform(client_data[['Average_Discount_Utilized', 'Total_Spending']])\n",
    "X_scaled = pd.DataFrame(X_scaled, columns=['Average_Discount_Utilized', 'Total_Spending'])\n",
    "\n",
    "# K-means clustering\n",
    "kmeans = KMeans(n_clusters=5, random_state=42)\n",
    "kmeans.fit(X_scaled)\n",
    "\n",
    "# Elbow Method\n",
    "inertias = []\n",
    "for k in range(1, 11):\n",
    "    kmeans_temp = KMeans(n_clusters=k, random_state=42)\n",
    "    kmeans_temp.fit(X_scaled)\n",
    "    inertias.append(kmeans_temp.inertia_)\n",
    "\n",
    "# Plotting the Elbow Method\n",
    "plt.figure(figsize=(10, 6))\n",
    "plt.plot(range(1, 11), inertias, marker='o')\n",
    "plt.xlabel('Number of Clusters')\n",
    "plt.ylabel('Inertia')\n",
    "plt.title('Elbow Method for Optimal Clusters')\n",
    "plt.show()\n",
    "\n",
    "# Silhouette Analysis\n",
    "silhouette_scores = []\n",
    "for k in range(2, 11):\n",
    "    kmeans_temp = KMeans(n_clusters=k, random_state=42)\n",
    "    kmeans_temp.fit(X_scaled)\n",
    "    score = silhouette_score(X_scaled, kmeans_temp.labels_)\n",
    "    silhouette_scores.append(score)\n",
    "\n",
    "# Plotting the Silhouette Analysis\n",
    "plt.figure(figsize=(10, 6))\n",
    "plt.plot(range(2, 11), silhouette_scores, marker='o')\n",
    "plt.xlabel('Number of Clusters')\n",
    "plt.ylabel('Silhouette Score')\n",
    "plt.title('Silhouette Analysis for Optimal Clusters')\n",
    "plt.show()\n",
    "\n",
    "# Choose the best number of clusters based on the analysis\n",
    "best_k = silhouette_scores.index(max(silhouette_scores)) + 2  # Best k is where silhouette score is max\n",
    "kmeans_final = KMeans(n_clusters=best_k, random_state=42)\n",
    "kmeans_final.fit(X_scaled)\n",
    "\n",
    "# Add the cluster labels to the DataFrame\n",
    "client_data['Cluster'] = kmeans_final.labels_\n",
    "\n",
    "# Aggregate statistics per cluster\n",
    "cluster_summary = client_data.groupby('Cluster').mean()\n",
    "\n",
    "# Visualization: Heatmap of average discount utilization and total spending by cluster\n",
    "plt.figure(figsize=(10, 8))\n",
    "sns.heatmap(cluster_summary, annot=True, cmap=\"YlGnBu\", fmt=\".2f\")\n",
    "plt.title('Clusters Average Discount Utilization and Total Spending')\n",
    "plt.ylabel('Cluster')\n",
    "plt.show()"
   ]
  },
  {
   "cell_type": "code",
   "execution_count": null,
   "id": "2848bc45-2e25-4855-af95-9e3494a953b0",
   "metadata": {},
   "outputs": [],
   "source": []
  },
  {
   "cell_type": "code",
   "execution_count": null,
   "id": "c8b726b0-1e40-432a-ad0a-139b82270586",
   "metadata": {},
   "outputs": [],
   "source": []
  },
  {
   "cell_type": "code",
   "execution_count": null,
   "id": "6a4ea7ba-e5c2-4e88-9053-84459588d433",
   "metadata": {},
   "outputs": [],
   "source": []
  },
  {
   "cell_type": "code",
   "execution_count": null,
   "id": "a637227c-baa3-495e-ad36-99b94c540324",
   "metadata": {},
   "outputs": [],
   "source": []
  },
  {
   "cell_type": "code",
   "execution_count": null,
   "id": "7cc505f9-6422-4c55-955f-efb23bb8fff7",
   "metadata": {},
   "outputs": [],
   "source": []
  },
  {
   "cell_type": "code",
   "execution_count": null,
   "id": "f9f67c93-0243-4d6d-9461-f3204fe4ef1d",
   "metadata": {},
   "outputs": [],
   "source": []
  },
  {
   "cell_type": "code",
   "execution_count": null,
   "id": "fd90e9ee-da20-4bc2-b600-518567578a96",
   "metadata": {},
   "outputs": [],
   "source": []
  },
  {
   "cell_type": "code",
   "execution_count": null,
   "id": "1fe0fde5-6a17-4992-afe8-6434ec6c3062",
   "metadata": {},
   "outputs": [],
   "source": []
  },
  {
   "cell_type": "code",
   "execution_count": null,
   "id": "59574741-8f9b-49ce-8683-45aabb9b21f8",
   "metadata": {},
   "outputs": [],
   "source": []
  },
  {
   "cell_type": "code",
   "execution_count": null,
   "id": "47b693c7-1c2e-49c5-b266-293787b3e5e9",
   "metadata": {},
   "outputs": [],
   "source": []
  },
  {
   "cell_type": "code",
   "execution_count": null,
   "id": "be576ca8-19b9-45d9-833b-0e32689dcddd",
   "metadata": {},
   "outputs": [],
   "source": []
  },
  {
   "cell_type": "code",
   "execution_count": null,
   "id": "74b60ffc-01de-4a0c-a83b-8c70086d9fdf",
   "metadata": {},
   "outputs": [],
   "source": []
  },
  {
   "cell_type": "code",
   "execution_count": null,
   "id": "0982faa0-cba7-491a-b07c-e85bf577cc0d",
   "metadata": {},
   "outputs": [],
   "source": []
  },
  {
   "cell_type": "code",
   "execution_count": null,
   "id": "3b79267a-c3b4-4cb1-9708-df0801863944",
   "metadata": {},
   "outputs": [],
   "source": []
  },
  {
   "cell_type": "code",
   "execution_count": null,
   "id": "7c3c0f0f-57c8-4ee1-9050-ede348d4324f",
   "metadata": {},
   "outputs": [],
   "source": []
  },
  {
   "cell_type": "code",
   "execution_count": null,
   "id": "706aa0fc-eb32-4720-8f90-a24ee03d8811",
   "metadata": {},
   "outputs": [],
   "source": []
  },
  {
   "cell_type": "code",
   "execution_count": null,
   "id": "a9c16e84-eadd-420e-aff1-408f74b49de8",
   "metadata": {},
   "outputs": [],
   "source": []
  },
  {
   "cell_type": "code",
   "execution_count": null,
   "id": "dcc7b26b-20da-433c-81e2-7bd447650159",
   "metadata": {},
   "outputs": [],
   "source": []
  }
 ],
 "metadata": {
  "kernelspec": {
   "display_name": "Python 3 (ipykernel)",
   "language": "python",
   "name": "python3"
  },
  "language_info": {
   "codemirror_mode": {
    "name": "ipython",
    "version": 3
   },
   "file_extension": ".py",
   "mimetype": "text/x-python",
   "name": "python",
   "nbconvert_exporter": "python",
   "pygments_lexer": "ipython3",
   "version": "3.11.5"
  }
 },
 "nbformat": 4,
 "nbformat_minor": 5
}
